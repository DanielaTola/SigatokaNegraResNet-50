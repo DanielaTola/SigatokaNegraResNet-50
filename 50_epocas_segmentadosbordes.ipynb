{
  "cells": [
    {
      "cell_type": "markdown",
      "metadata": {
        "id": "view-in-github",
        "colab_type": "text"
      },
      "source": [
        "<a href=\"https://colab.research.google.com/github/DanielaTola/SigatokaNegraResNet-50/blob/main/50_epocas_segmentadosbordes.ipynb\" target=\"_parent\"><img src=\"https://colab.research.google.com/assets/colab-badge.svg\" alt=\"Open In Colab\"/></a>"
      ]
    },
    {
      "cell_type": "code",
      "source": [
        "from google.colab import drive\n",
        "drive.mount('/content/drive')"
      ],
      "metadata": {
        "colab": {
          "base_uri": "https://localhost:8080/"
        },
        "id": "MCfsHeFDwh_J",
        "outputId": "fe4be724-528c-4e7c-c8ad-5a8c41fce245"
      },
      "execution_count": 1,
      "outputs": [
        {
          "output_type": "stream",
          "name": "stdout",
          "text": [
            "Mounted at /content/drive\n"
          ]
        }
      ]
    },
    {
      "cell_type": "code",
      "execution_count": null,
      "metadata": {
        "colab": {
          "base_uri": "https://localhost:8080/"
        },
        "id": "KjsHv51KRNNo",
        "outputId": "f712ad38-930b-4085-b4b6-bbae9e64d143"
      },
      "outputs": [
        {
          "output_type": "stream",
          "name": "stdout",
          "text": [
            "Looking in indexes: https://pypi.org/simple, https://us-python.pkg.dev/colab-wheels/public/simple/\n",
            "Requirement already satisfied: torch in /usr/local/lib/python3.8/dist-packages (1.13.1+cu116)\n",
            "Requirement already satisfied: torchvision in /usr/local/lib/python3.8/dist-packages (0.14.1+cu116)\n",
            "Requirement already satisfied: typing-extensions in /usr/local/lib/python3.8/dist-packages (from torch) (4.5.0)\n",
            "Requirement already satisfied: requests in /usr/local/lib/python3.8/dist-packages (from torchvision) (2.25.1)\n",
            "Requirement already satisfied: pillow!=8.3.*,>=5.3.0 in /usr/local/lib/python3.8/dist-packages (from torchvision) (8.4.0)\n",
            "Requirement already satisfied: numpy in /usr/local/lib/python3.8/dist-packages (from torchvision) (1.22.4)\n",
            "Requirement already satisfied: urllib3<1.27,>=1.21.1 in /usr/local/lib/python3.8/dist-packages (from requests->torchvision) (1.26.14)\n",
            "Requirement already satisfied: certifi>=2017.4.17 in /usr/local/lib/python3.8/dist-packages (from requests->torchvision) (2022.12.7)\n",
            "Requirement already satisfied: chardet<5,>=3.0.2 in /usr/local/lib/python3.8/dist-packages (from requests->torchvision) (4.0.0)\n",
            "Requirement already satisfied: idna<3,>=2.5 in /usr/local/lib/python3.8/dist-packages (from requests->torchvision) (2.10)\n"
          ]
        }
      ],
      "source": [
        "!pip install torch torchvision"
      ]
    },
    {
      "cell_type": "code",
      "execution_count": null,
      "metadata": {
        "colab": {
          "base_uri": "https://localhost:8080/"
        },
        "id": "mKGYz2tIRVHJ",
        "outputId": "493a9c22-0595-45dc-da9b-3edfea7ff805"
      },
      "outputs": [
        {
          "output_type": "stream",
          "name": "stdout",
          "text": [
            "Mounted at /content/drive\n"
          ]
        }
      ],
      "source": [
        "import os\n",
        "import torch\n",
        "import torchvision\n",
        "import numpy as np\n",
        "import torch.nn as nn\n",
        "import torch.optim as optim\n",
        "import matplotlib.pyplot as plt\n",
        "from sklearn.model_selection import KFold\n",
        "from PIL import Image\n",
        "from torchvision import models, transforms, datasets\n",
        "from torch.utils.data import DataLoader\n",
        "from sklearn.metrics import confusion_matrix, classification_report, accuracy_score\n",
        "from google.colab import drive \n",
        "drive.mount('/content/drive')"
      ]
    },
    {
      "cell_type": "code",
      "execution_count": null,
      "metadata": {
        "id": "GWU6nCbxRY3S"
      },
      "outputs": [],
      "source": [
        "num_epochs = 50\n",
        "learning_rate = 0.001\n",
        "batch_size = 32"
      ]
    },
    {
      "cell_type": "code",
      "execution_count": null,
      "metadata": {
        "colab": {
          "base_uri": "https://localhost:8080/",
          "height": 156,
          "referenced_widgets": [
            "df4bcb9b27c547c78dd61e89b52b6085",
            "0a70de2c8dda4dbeb43140613e51d36d",
            "263776f872624d53b5dc5bcee682ed8c",
            "0cc2ff39837f4bf89c7419a8fceb4251",
            "b36ba468f9c84c5fbc831220ca5eeb28",
            "44360049d0de441caada8d8f7b7d3b92",
            "af4a04cb38fc408390d25f910b9ffa1e",
            "1ada99591abc466eb78519f6be62c042",
            "e0642c209be049e8b82f0a45f6db060a",
            "81cc2cef29624f4a89a9221801021716",
            "356bc3bd5561421ab2d550c1e4b32f86"
          ]
        },
        "id": "bJxJqjXYRbpL",
        "outputId": "2f0d5e2e-0b90-47a9-b525-6f9e75e8d919"
      },
      "outputs": [
        {
          "output_type": "stream",
          "name": "stderr",
          "text": [
            "/usr/local/lib/python3.8/dist-packages/torchvision/models/_utils.py:208: UserWarning: The parameter 'pretrained' is deprecated since 0.13 and may be removed in the future, please use 'weights' instead.\n",
            "  warnings.warn(\n",
            "/usr/local/lib/python3.8/dist-packages/torchvision/models/_utils.py:223: UserWarning: Arguments other than a weight enum or `None` for 'weights' are deprecated since 0.13 and may be removed in the future. The current behavior is equivalent to passing `weights=ResNet50_Weights.IMAGENET1K_V1`. You can also use `weights=ResNet50_Weights.DEFAULT` to get the most up-to-date weights.\n",
            "  warnings.warn(msg)\n",
            "Downloading: \"https://download.pytorch.org/models/resnet50-0676ba61.pth\" to /root/.cache/torch/hub/checkpoints/resnet50-0676ba61.pth\n"
          ]
        },
        {
          "output_type": "display_data",
          "data": {
            "text/plain": [
              "  0%|          | 0.00/97.8M [00:00<?, ?B/s]"
            ],
            "application/vnd.jupyter.widget-view+json": {
              "version_major": 2,
              "version_minor": 0,
              "model_id": "df4bcb9b27c547c78dd61e89b52b6085"
            }
          },
          "metadata": {}
        }
      ],
      "source": [
        "# Cargar modelo pre-entrenado y congelar parámetros de capas iniciales\n",
        "model = models.resnet50(pretrained=True)\n",
        "\n",
        "# Congelar todas las capas excepto la capa fc\n",
        "for name, param in model.named_parameters():\n",
        "    if \"fc\" not in name:\n",
        "        param.requires_grad = False\n",
        "\n",
        "# Ajustar parámetros para que solo la capa fc sea entrenable\n",
        "for param in model.fc.parameters():\n",
        "    param.requires_grad = True\n",
        "\n",
        "\n",
        "# Definir función de pérdida y optimizador\n",
        "criterion = torch.nn.CrossEntropyLoss()\n",
        "optimizer = optim.Adam(model.fc.parameters(), lr=learning_rate)"
      ]
    },
    {
      "cell_type": "code",
      "execution_count": null,
      "metadata": {
        "colab": {
          "base_uri": "https://localhost:8080/"
        },
        "id": "t_5EJsyyRg20",
        "outputId": "ed911d0a-8b82-46cc-9927-f23a6df2fbe4"
      },
      "outputs": [
        {
          "output_type": "stream",
          "name": "stdout",
          "text": [
            "['Etapa1', 'Etapa2', 'Etapa3', 'Etapa4']\n",
            "['Etapa1', 'Etapa2', 'Etapa3', 'Etapa4']\n"
          ]
        }
      ],
      "source": [
        "data_transform = transforms.Compose([\n",
        "    #transforms.RandomResizedCrop(224),\n",
        "    transforms.RandomHorizontalFlip(),\n",
        "    transforms.ToTensor(),\n",
        "    transforms.Normalize([0.485, 0.456, 0.406], [0.229, 0.224, 0.225])\n",
        "])\n",
        "\n",
        "train_dataset = torchvision.datasets.ImageFolder(\"/content/drive/MyDrive/Train-ResNet-50/TrainCompletoSegmentadoBordes/Train\",transform=data_transform) \n",
        "test_dataset = torchvision.datasets.ImageFolder(\"/content/drive/MyDrive/Train-ResNet-50/TrainCompletoSegmentadoBordes/Test\",transform=data_transform)\n",
        "\n",
        "print(train_dataset.classes)\n",
        "print(test_dataset.classes)\n",
        "# Crear dataloaders para entrenamiento y pruebas\n",
        "train_loader = DataLoader(train_dataset, batch_size=batch_size, shuffle=True, num_workers=2)\n",
        "test_loader = DataLoader(test_dataset, batch_size=batch_size, shuffle=False, num_workers=2)\n"
      ]
    },
    {
      "cell_type": "code",
      "execution_count": null,
      "metadata": {
        "colab": {
          "base_uri": "https://localhost:8080/",
          "height": 1000
        },
        "id": "-cYeK5KTRh4L",
        "outputId": "49bb5e1b-eecb-47f4-bb23-4de3d42f0a5c"
      },
      "outputs": [
        {
          "output_type": "stream",
          "name": "stdout",
          "text": [
            "Epoch [1/50], Step [39/39], Loss: 1.3633, Accuracy: 0.2814\n",
            "Epoch [1], Accuracy_testing: 0.2814\n",
            "Mejor entrenamiento:  0.28135048231511256\n",
            "[[ 9 11  9 26]\n",
            " [ 8 18  4 25]\n",
            " [10 19  8 18]\n",
            " [10 18  7 20]]\n",
            "\n",
            "Reporte de clasificación:\n",
            "              precision    recall  f1-score   support\n",
            "\n",
            "      Etapa1       0.24      0.16      0.20        55\n",
            "      Etapa2       0.27      0.33      0.30        55\n",
            "      Etapa3       0.29      0.15      0.19        55\n",
            "      Etapa4       0.22      0.36      0.28        55\n",
            "\n",
            "    accuracy                           0.25       220\n",
            "   macro avg       0.26      0.25      0.24       220\n",
            "weighted avg       0.26      0.25      0.24       220\n",
            "\n",
            "Epoch [2/50], Step [39/39], Loss: 1.2703, Accuracy: 0.4751\n",
            "Epoch [2], Accuracy_testing: 0.4751\n",
            "Mejor entrenamiento:  0.47508038585209006\n",
            "[[13 10 15 17]\n",
            " [11 14 14 16]\n",
            " [15  8 21 11]\n",
            " [15 11 14 15]]\n",
            "\n",
            "Reporte de clasificación:\n",
            "              precision    recall  f1-score   support\n",
            "\n",
            "      Etapa1       0.24      0.24      0.24        55\n",
            "      Etapa2       0.33      0.25      0.29        55\n",
            "      Etapa3       0.33      0.38      0.35        55\n",
            "      Etapa4       0.25      0.27      0.26        55\n",
            "\n",
            "    accuracy                           0.29       220\n",
            "   macro avg       0.29      0.29      0.29       220\n",
            "weighted avg       0.29      0.29      0.29       220\n",
            "\n",
            "Epoch [3/50], Step [39/39], Loss: 0.9980, Accuracy: 0.6013\n",
            "Epoch [3], Accuracy_testing: 0.6013\n",
            "Mejor entrenamiento:  0.6012861736334405\n",
            "[[18 11  7 19]\n",
            " [10 19  8 18]\n",
            " [13 14 18 10]\n",
            " [15 16  6 18]]\n",
            "\n",
            "Reporte de clasificación:\n",
            "              precision    recall  f1-score   support\n",
            "\n",
            "      Etapa1       0.32      0.33      0.32        55\n",
            "      Etapa2       0.32      0.35      0.33        55\n",
            "      Etapa3       0.46      0.33      0.38        55\n",
            "      Etapa4       0.28      0.33      0.30        55\n",
            "\n",
            "    accuracy                           0.33       220\n",
            "   macro avg       0.34      0.33      0.33       220\n",
            "weighted avg       0.34      0.33      0.33       220\n",
            "\n",
            "Epoch [4/50], Step [39/39], Loss: 1.0235, Accuracy: 0.6648\n",
            "Epoch [4], Accuracy_testing: 0.6648\n",
            "Mejor entrenamiento:  0.6647909967845659\n",
            "[[23  7  9 16]\n",
            " [23 18  6  8]\n",
            " [20 12 17  6]\n",
            " [25 10  5 15]]\n",
            "\n",
            "Reporte de clasificación:\n",
            "              precision    recall  f1-score   support\n",
            "\n",
            "      Etapa1       0.25      0.42      0.32        55\n",
            "      Etapa2       0.38      0.33      0.35        55\n",
            "      Etapa3       0.46      0.31      0.37        55\n",
            "      Etapa4       0.33      0.27      0.30        55\n",
            "\n",
            "    accuracy                           0.33       220\n",
            "   macro avg       0.36      0.33      0.33       220\n",
            "weighted avg       0.36      0.33      0.33       220\n",
            "\n",
            "Epoch [5/50], Step [39/39], Loss: 0.8166, Accuracy: 0.6921\n",
            "Epoch [5], Accuracy_testing: 0.6921\n",
            "Mejor entrenamiento:  0.6921221864951769\n",
            "[[16  9 22  8]\n",
            " [11 26 12  6]\n",
            " [14 13 22  6]\n",
            " [12 18 15 10]]\n",
            "\n",
            "Reporte de clasificación:\n",
            "              precision    recall  f1-score   support\n",
            "\n",
            "      Etapa1       0.30      0.29      0.30        55\n",
            "      Etapa2       0.39      0.47      0.43        55\n",
            "      Etapa3       0.31      0.40      0.35        55\n",
            "      Etapa4       0.33      0.18      0.24        55\n",
            "\n",
            "    accuracy                           0.34       220\n",
            "   macro avg       0.33      0.34      0.33       220\n",
            "weighted avg       0.33      0.34      0.33       220\n",
            "\n",
            "Epoch [6/50], Step [39/39], Loss: 0.7743, Accuracy: 0.7243\n",
            "Epoch [6], Accuracy_testing: 0.7243\n",
            "Mejor entrenamiento:  0.7242765273311897\n",
            "[[16 11 12 16]\n",
            " [ 7 26  7 15]\n",
            " [13 13 21  8]\n",
            " [16 15 11 13]]\n",
            "\n",
            "Reporte de clasificación:\n",
            "              precision    recall  f1-score   support\n",
            "\n",
            "      Etapa1       0.31      0.29      0.30        55\n",
            "      Etapa2       0.40      0.47      0.43        55\n",
            "      Etapa3       0.41      0.38      0.40        55\n",
            "      Etapa4       0.25      0.24      0.24        55\n",
            "\n",
            "    accuracy                           0.35       220\n",
            "   macro avg       0.34      0.35      0.34       220\n",
            "weighted avg       0.34      0.35      0.34       220\n",
            "\n",
            "Epoch [7/50], Step [39/39], Loss: 0.6117, Accuracy: 0.7299\n",
            "Epoch [7], Accuracy_testing: 0.7299\n",
            "Mejor entrenamiento:  0.729903536977492\n",
            "[[26  9  7 13]\n",
            " [15 21  6 13]\n",
            " [20 13 12 10]\n",
            " [22 11  3 19]]\n",
            "\n",
            "Reporte de clasificación:\n",
            "              precision    recall  f1-score   support\n",
            "\n",
            "      Etapa1       0.31      0.47      0.38        55\n",
            "      Etapa2       0.39      0.38      0.39        55\n",
            "      Etapa3       0.43      0.22      0.29        55\n",
            "      Etapa4       0.35      0.35      0.35        55\n",
            "\n",
            "    accuracy                           0.35       220\n",
            "   macro avg       0.37      0.35      0.35       220\n",
            "weighted avg       0.37      0.35      0.35       220\n",
            "\n",
            "Epoch [8/50], Step [39/39], Loss: 0.6617, Accuracy: 0.7404\n",
            "Epoch [8], Accuracy_testing: 0.7404\n",
            "Mejor entrenamiento:  0.7403536977491961\n",
            "[[11  5 13 26]\n",
            " [ 5 20  8 22]\n",
            " [ 9  8 22 16]\n",
            " [12 10  9 24]]\n",
            "\n",
            "Reporte de clasificación:\n",
            "              precision    recall  f1-score   support\n",
            "\n",
            "      Etapa1       0.30      0.20      0.24        55\n",
            "      Etapa2       0.47      0.36      0.41        55\n",
            "      Etapa3       0.42      0.40      0.41        55\n",
            "      Etapa4       0.27      0.44      0.34        55\n",
            "\n",
            "    accuracy                           0.35       220\n",
            "   macro avg       0.36      0.35      0.35       220\n",
            "weighted avg       0.36      0.35      0.35       220\n",
            "\n",
            "Epoch [9/50], Step [39/39], Loss: 0.5071, Accuracy: 0.7613\n",
            "Epoch [9], Accuracy_testing: 0.7613\n",
            "Mejor entrenamiento:  0.7612540192926045\n",
            "[[17  6 19 13]\n",
            " [ 9 15 20 11]\n",
            " [11  6 33  5]\n",
            " [16 10 18 11]]\n",
            "\n",
            "Reporte de clasificación:\n",
            "              precision    recall  f1-score   support\n",
            "\n",
            "      Etapa1       0.32      0.31      0.31        55\n",
            "      Etapa2       0.41      0.27      0.33        55\n",
            "      Etapa3       0.37      0.60      0.46        55\n",
            "      Etapa4       0.28      0.20      0.23        55\n",
            "\n",
            "    accuracy                           0.35       220\n",
            "   macro avg       0.34      0.35      0.33       220\n",
            "weighted avg       0.34      0.35      0.33       220\n",
            "\n",
            "Epoch [10/50], Step [39/39], Loss: 0.6199, Accuracy: 0.7757\n",
            "Epoch [10], Accuracy_testing: 0.7757\n",
            "Mejor entrenamiento:  0.7757234726688103\n",
            "[[14  9 15 17]\n",
            " [ 6 23  8 18]\n",
            " [ 8 14 19 14]\n",
            " [14 13 11 17]]\n",
            "\n",
            "Reporte de clasificación:\n",
            "              precision    recall  f1-score   support\n",
            "\n",
            "      Etapa1       0.33      0.25      0.29        55\n",
            "      Etapa2       0.39      0.42      0.40        55\n",
            "      Etapa3       0.36      0.35      0.35        55\n",
            "      Etapa4       0.26      0.31      0.28        55\n",
            "\n",
            "    accuracy                           0.33       220\n",
            "   macro avg       0.33      0.33      0.33       220\n",
            "weighted avg       0.33      0.33      0.33       220\n",
            "\n",
            "Epoch [11/50], Step [39/39], Loss: 0.7334, Accuracy: 0.7789\n",
            "Epoch [11], Accuracy_testing: 0.7789\n",
            "Mejor entrenamiento:  0.7789389067524116\n",
            "[[12  9 11 23]\n",
            " [ 8 22  6 19]\n",
            " [ 8 10 22 15]\n",
            " [13 10 11 21]]\n",
            "\n",
            "Reporte de clasificación:\n",
            "              precision    recall  f1-score   support\n",
            "\n",
            "      Etapa1       0.29      0.22      0.25        55\n",
            "      Etapa2       0.43      0.40      0.42        55\n",
            "      Etapa3       0.44      0.40      0.42        55\n",
            "      Etapa4       0.27      0.38      0.32        55\n",
            "\n",
            "    accuracy                           0.35       220\n",
            "   macro avg       0.36      0.35      0.35       220\n",
            "weighted avg       0.36      0.35      0.35       220\n",
            "\n",
            "Epoch [12/50], Step [39/39], Loss: 0.5520, Accuracy: 0.7878\n",
            "Epoch [12], Accuracy_testing: 0.7878\n",
            "Mejor entrenamiento:  0.7877813504823151\n",
            "[[18  2 20 15]\n",
            " [10 15 18 12]\n",
            " [13  6 31  5]\n",
            " [19  5 16 15]]\n",
            "\n",
            "Reporte de clasificación:\n",
            "              precision    recall  f1-score   support\n",
            "\n",
            "      Etapa1       0.30      0.33      0.31        55\n",
            "      Etapa2       0.54      0.27      0.36        55\n",
            "      Etapa3       0.36      0.56      0.44        55\n",
            "      Etapa4       0.32      0.27      0.29        55\n",
            "\n",
            "    accuracy                           0.36       220\n",
            "   macro avg       0.38      0.36      0.35       220\n",
            "weighted avg       0.38      0.36      0.35       220\n",
            "\n",
            "Epoch [13/50], Step [39/39], Loss: 0.3890, Accuracy: 0.7814\n",
            "Epoch [13], Accuracy_testing: 0.7814\n",
            "Epoch [14/50], Step [39/39], Loss: 0.4843, Accuracy: 0.8151\n",
            "Epoch [14], Accuracy_testing: 0.8151\n",
            "Mejor entrenamiento:  0.815112540192926\n",
            "[[20  7 11 17]\n",
            " [ 9 20 11 15]\n",
            " [16  9 21  9]\n",
            " [19  8 12 16]]\n",
            "\n",
            "Reporte de clasificación:\n",
            "              precision    recall  f1-score   support\n",
            "\n",
            "      Etapa1       0.31      0.36      0.34        55\n",
            "      Etapa2       0.45      0.36      0.40        55\n",
            "      Etapa3       0.38      0.38      0.38        55\n",
            "      Etapa4       0.28      0.29      0.29        55\n",
            "\n",
            "    accuracy                           0.35       220\n",
            "   macro avg       0.36      0.35      0.35       220\n",
            "weighted avg       0.36      0.35      0.35       220\n",
            "\n",
            "Epoch [15/50], Step [39/39], Loss: 0.6744, Accuracy: 0.8151\n",
            "Epoch [15], Accuracy_testing: 0.8151\n",
            "Epoch [16/50], Step [39/39], Loss: 0.4911, Accuracy: 0.8143\n",
            "Epoch [16], Accuracy_testing: 0.8143\n",
            "Epoch [17/50], Step [39/39], Loss: 0.7040, Accuracy: 0.8087\n",
            "Epoch [17], Accuracy_testing: 0.8087\n",
            "Epoch [18/50], Step [39/39], Loss: 0.5732, Accuracy: 0.8127\n",
            "Epoch [18], Accuracy_testing: 0.8127\n",
            "Epoch [19/50], Step [39/39], Loss: 0.4695, Accuracy: 0.8223\n",
            "Epoch [19], Accuracy_testing: 0.8223\n",
            "Mejor entrenamiento:  0.822347266881029\n",
            "[[34  7  8  6]\n",
            " [28 13  5  9]\n",
            " [27  4 20  4]\n",
            " [28  6  9 12]]\n",
            "\n",
            "Reporte de clasificación:\n",
            "              precision    recall  f1-score   support\n",
            "\n",
            "      Etapa1       0.29      0.62      0.40        55\n",
            "      Etapa2       0.43      0.24      0.31        55\n",
            "      Etapa3       0.48      0.36      0.41        55\n",
            "      Etapa4       0.39      0.22      0.28        55\n",
            "\n",
            "    accuracy                           0.36       220\n",
            "   macro avg       0.40      0.36      0.35       220\n",
            "weighted avg       0.40      0.36      0.35       220\n",
            "\n",
            "Epoch [20/50], Step [39/39], Loss: 0.6772, Accuracy: 0.8031\n",
            "Epoch [20], Accuracy_testing: 0.8031\n",
            "Epoch [21/50], Step [39/39], Loss: 0.6475, Accuracy: 0.8288\n",
            "Epoch [21], Accuracy_testing: 0.8288\n",
            "Mejor entrenamiento:  0.8287781350482315\n",
            "[[21 11 14  9]\n",
            " [10 25 11  9]\n",
            " [15 13 23  4]\n",
            " [17 14 16  8]]\n",
            "\n",
            "Reporte de clasificación:\n",
            "              precision    recall  f1-score   support\n",
            "\n",
            "      Etapa1       0.33      0.38      0.36        55\n",
            "      Etapa2       0.40      0.45      0.42        55\n",
            "      Etapa3       0.36      0.42      0.39        55\n",
            "      Etapa4       0.27      0.15      0.19        55\n",
            "\n",
            "    accuracy                           0.35       220\n",
            "   macro avg       0.34      0.35      0.34       220\n",
            "weighted avg       0.34      0.35      0.34       220\n",
            "\n",
            "Epoch [22/50], Step [39/39], Loss: 0.2010, Accuracy: 0.8087\n",
            "Epoch [22], Accuracy_testing: 0.8087\n",
            "Epoch [23/50], Step [39/39], Loss: 0.3288, Accuracy: 0.8336\n",
            "Epoch [23], Accuracy_testing: 0.8336\n",
            "Mejor entrenamiento:  0.8336012861736335\n",
            "[[23  4 15 13]\n",
            " [14 19  8 14]\n",
            " [19  8 20  8]\n",
            " [20  9 11 15]]\n",
            "\n",
            "Reporte de clasificación:\n",
            "              precision    recall  f1-score   support\n",
            "\n",
            "      Etapa1       0.30      0.42      0.35        55\n",
            "      Etapa2       0.47      0.35      0.40        55\n",
            "      Etapa3       0.37      0.36      0.37        55\n",
            "      Etapa4       0.30      0.27      0.29        55\n",
            "\n",
            "    accuracy                           0.35       220\n",
            "   macro avg       0.36      0.35      0.35       220\n",
            "weighted avg       0.36      0.35      0.35       220\n",
            "\n",
            "Epoch [24/50], Step [39/39], Loss: 0.5636, Accuracy: 0.8376\n",
            "Epoch [24], Accuracy_testing: 0.8376\n",
            "Mejor entrenamiento:  0.837620578778135\n",
            "[[23 10 12 10]\n",
            " [13 23  9 10]\n",
            " [16 12 20  7]\n",
            " [17 11 14 13]]\n",
            "\n",
            "Reporte de clasificación:\n",
            "              precision    recall  f1-score   support\n",
            "\n",
            "      Etapa1       0.33      0.42      0.37        55\n",
            "      Etapa2       0.41      0.42      0.41        55\n",
            "      Etapa3       0.36      0.36      0.36        55\n",
            "      Etapa4       0.33      0.24      0.27        55\n",
            "\n",
            "    accuracy                           0.36       220\n",
            "   macro avg       0.36      0.36      0.36       220\n",
            "weighted avg       0.36      0.36      0.36       220\n",
            "\n",
            "Epoch [25/50], Step [39/39], Loss: 0.8383, Accuracy: 0.8489\n",
            "Epoch [25], Accuracy_testing: 0.8489\n",
            "Mejor entrenamiento:  0.8488745980707395\n",
            "[[17 15 11 12]\n",
            " [ 7 30  7 11]\n",
            " [16 12 20  7]\n",
            " [15 17 10 13]]\n",
            "\n",
            "Reporte de clasificación:\n",
            "              precision    recall  f1-score   support\n",
            "\n",
            "      Etapa1       0.31      0.31      0.31        55\n",
            "      Etapa2       0.41      0.55      0.47        55\n",
            "      Etapa3       0.42      0.36      0.39        55\n",
            "      Etapa4       0.30      0.24      0.27        55\n",
            "\n",
            "    accuracy                           0.36       220\n",
            "   macro avg       0.36      0.36      0.36       220\n",
            "weighted avg       0.36      0.36      0.36       220\n",
            "\n",
            "Epoch [26/50], Step [39/39], Loss: 0.2823, Accuracy: 0.8432\n",
            "Epoch [26], Accuracy_testing: 0.8432\n",
            "Epoch [27/50], Step [39/39], Loss: 0.4249, Accuracy: 0.8416\n",
            "Epoch [27], Accuracy_testing: 0.8416\n",
            "Epoch [28/50], Step [39/39], Loss: 0.5018, Accuracy: 0.8199\n",
            "Epoch [28], Accuracy_testing: 0.8199\n"
          ]
        },
        {
          "output_type": "error",
          "ename": "KeyboardInterrupt",
          "evalue": "ignored",
          "traceback": [
            "\u001b[0;31m---------------------------------------------------------------------------\u001b[0m",
            "\u001b[0;31mKeyboardInterrupt\u001b[0m                         Traceback (most recent call last)",
            "\u001b[0;32m<ipython-input-7-2c4eb83bfd2c>\u001b[0m in \u001b[0;36m<module>\u001b[0;34m\u001b[0m\n\u001b[1;32m      9\u001b[0m     \u001b[0;32mfor\u001b[0m \u001b[0mi\u001b[0m\u001b[0;34m,\u001b[0m \u001b[0;34m(\u001b[0m\u001b[0mimages\u001b[0m\u001b[0;34m,\u001b[0m \u001b[0mlabels\u001b[0m\u001b[0;34m)\u001b[0m \u001b[0;32min\u001b[0m \u001b[0menumerate\u001b[0m\u001b[0;34m(\u001b[0m\u001b[0mtrain_loader\u001b[0m\u001b[0;34m)\u001b[0m\u001b[0;34m:\u001b[0m\u001b[0;34m\u001b[0m\u001b[0;34m\u001b[0m\u001b[0m\n\u001b[1;32m     10\u001b[0m         \u001b[0;31m# Pasar datos a través de la red\u001b[0m\u001b[0;34m\u001b[0m\u001b[0;34m\u001b[0m\u001b[0;34m\u001b[0m\u001b[0m\n\u001b[0;32m---> 11\u001b[0;31m         \u001b[0moutputs\u001b[0m \u001b[0;34m=\u001b[0m \u001b[0mmodel\u001b[0m\u001b[0;34m(\u001b[0m\u001b[0mimages\u001b[0m\u001b[0;34m)\u001b[0m\u001b[0;34m\u001b[0m\u001b[0;34m\u001b[0m\u001b[0m\n\u001b[0m\u001b[1;32m     12\u001b[0m         \u001b[0m_\u001b[0m\u001b[0;34m,\u001b[0m \u001b[0mpredicted\u001b[0m \u001b[0;34m=\u001b[0m \u001b[0mtorch\u001b[0m\u001b[0;34m.\u001b[0m\u001b[0mmax\u001b[0m\u001b[0;34m(\u001b[0m\u001b[0moutputs\u001b[0m\u001b[0;34m.\u001b[0m\u001b[0mdata\u001b[0m\u001b[0;34m,\u001b[0m \u001b[0;36m1\u001b[0m\u001b[0;34m)\u001b[0m\u001b[0;34m\u001b[0m\u001b[0;34m\u001b[0m\u001b[0m\n\u001b[1;32m     13\u001b[0m         \u001b[0mtotal\u001b[0m \u001b[0;34m+=\u001b[0m \u001b[0mlabels\u001b[0m\u001b[0;34m.\u001b[0m\u001b[0msize\u001b[0m\u001b[0;34m(\u001b[0m\u001b[0;36m0\u001b[0m\u001b[0;34m)\u001b[0m\u001b[0;34m\u001b[0m\u001b[0;34m\u001b[0m\u001b[0m\n",
            "\u001b[0;32m/usr/local/lib/python3.8/dist-packages/torch/nn/modules/module.py\u001b[0m in \u001b[0;36m_call_impl\u001b[0;34m(self, *input, **kwargs)\u001b[0m\n\u001b[1;32m   1192\u001b[0m         if not (self._backward_hooks or self._forward_hooks or self._forward_pre_hooks or _global_backward_hooks\n\u001b[1;32m   1193\u001b[0m                 or _global_forward_hooks or _global_forward_pre_hooks):\n\u001b[0;32m-> 1194\u001b[0;31m             \u001b[0;32mreturn\u001b[0m \u001b[0mforward_call\u001b[0m\u001b[0;34m(\u001b[0m\u001b[0;34m*\u001b[0m\u001b[0minput\u001b[0m\u001b[0;34m,\u001b[0m \u001b[0;34m**\u001b[0m\u001b[0mkwargs\u001b[0m\u001b[0;34m)\u001b[0m\u001b[0;34m\u001b[0m\u001b[0;34m\u001b[0m\u001b[0m\n\u001b[0m\u001b[1;32m   1195\u001b[0m         \u001b[0;31m# Do not call functions when jit is used\u001b[0m\u001b[0;34m\u001b[0m\u001b[0;34m\u001b[0m\u001b[0;34m\u001b[0m\u001b[0m\n\u001b[1;32m   1196\u001b[0m         \u001b[0mfull_backward_hooks\u001b[0m\u001b[0;34m,\u001b[0m \u001b[0mnon_full_backward_hooks\u001b[0m \u001b[0;34m=\u001b[0m \u001b[0;34m[\u001b[0m\u001b[0;34m]\u001b[0m\u001b[0;34m,\u001b[0m \u001b[0;34m[\u001b[0m\u001b[0;34m]\u001b[0m\u001b[0;34m\u001b[0m\u001b[0;34m\u001b[0m\u001b[0m\n",
            "\u001b[0;32m/usr/local/lib/python3.8/dist-packages/torchvision/models/resnet.py\u001b[0m in \u001b[0;36mforward\u001b[0;34m(self, x)\u001b[0m\n\u001b[1;32m    283\u001b[0m \u001b[0;34m\u001b[0m\u001b[0m\n\u001b[1;32m    284\u001b[0m     \u001b[0;32mdef\u001b[0m \u001b[0mforward\u001b[0m\u001b[0;34m(\u001b[0m\u001b[0mself\u001b[0m\u001b[0;34m,\u001b[0m \u001b[0mx\u001b[0m\u001b[0;34m:\u001b[0m \u001b[0mTensor\u001b[0m\u001b[0;34m)\u001b[0m \u001b[0;34m->\u001b[0m \u001b[0mTensor\u001b[0m\u001b[0;34m:\u001b[0m\u001b[0;34m\u001b[0m\u001b[0;34m\u001b[0m\u001b[0m\n\u001b[0;32m--> 285\u001b[0;31m         \u001b[0;32mreturn\u001b[0m \u001b[0mself\u001b[0m\u001b[0;34m.\u001b[0m\u001b[0m_forward_impl\u001b[0m\u001b[0;34m(\u001b[0m\u001b[0mx\u001b[0m\u001b[0;34m)\u001b[0m\u001b[0;34m\u001b[0m\u001b[0;34m\u001b[0m\u001b[0m\n\u001b[0m\u001b[1;32m    286\u001b[0m \u001b[0;34m\u001b[0m\u001b[0m\n\u001b[1;32m    287\u001b[0m \u001b[0;34m\u001b[0m\u001b[0m\n",
            "\u001b[0;32m/usr/local/lib/python3.8/dist-packages/torchvision/models/resnet.py\u001b[0m in \u001b[0;36m_forward_impl\u001b[0;34m(self, x)\u001b[0m\n\u001b[1;32m    271\u001b[0m         \u001b[0mx\u001b[0m \u001b[0;34m=\u001b[0m \u001b[0mself\u001b[0m\u001b[0;34m.\u001b[0m\u001b[0mmaxpool\u001b[0m\u001b[0;34m(\u001b[0m\u001b[0mx\u001b[0m\u001b[0;34m)\u001b[0m\u001b[0;34m\u001b[0m\u001b[0;34m\u001b[0m\u001b[0m\n\u001b[1;32m    272\u001b[0m \u001b[0;34m\u001b[0m\u001b[0m\n\u001b[0;32m--> 273\u001b[0;31m         \u001b[0mx\u001b[0m \u001b[0;34m=\u001b[0m \u001b[0mself\u001b[0m\u001b[0;34m.\u001b[0m\u001b[0mlayer1\u001b[0m\u001b[0;34m(\u001b[0m\u001b[0mx\u001b[0m\u001b[0;34m)\u001b[0m\u001b[0;34m\u001b[0m\u001b[0;34m\u001b[0m\u001b[0m\n\u001b[0m\u001b[1;32m    274\u001b[0m         \u001b[0mx\u001b[0m \u001b[0;34m=\u001b[0m \u001b[0mself\u001b[0m\u001b[0;34m.\u001b[0m\u001b[0mlayer2\u001b[0m\u001b[0;34m(\u001b[0m\u001b[0mx\u001b[0m\u001b[0;34m)\u001b[0m\u001b[0;34m\u001b[0m\u001b[0;34m\u001b[0m\u001b[0m\n\u001b[1;32m    275\u001b[0m         \u001b[0mx\u001b[0m \u001b[0;34m=\u001b[0m \u001b[0mself\u001b[0m\u001b[0;34m.\u001b[0m\u001b[0mlayer3\u001b[0m\u001b[0;34m(\u001b[0m\u001b[0mx\u001b[0m\u001b[0;34m)\u001b[0m\u001b[0;34m\u001b[0m\u001b[0;34m\u001b[0m\u001b[0m\n",
            "\u001b[0;32m/usr/local/lib/python3.8/dist-packages/torch/nn/modules/module.py\u001b[0m in \u001b[0;36m_call_impl\u001b[0;34m(self, *input, **kwargs)\u001b[0m\n\u001b[1;32m   1192\u001b[0m         if not (self._backward_hooks or self._forward_hooks or self._forward_pre_hooks or _global_backward_hooks\n\u001b[1;32m   1193\u001b[0m                 or _global_forward_hooks or _global_forward_pre_hooks):\n\u001b[0;32m-> 1194\u001b[0;31m             \u001b[0;32mreturn\u001b[0m \u001b[0mforward_call\u001b[0m\u001b[0;34m(\u001b[0m\u001b[0;34m*\u001b[0m\u001b[0minput\u001b[0m\u001b[0;34m,\u001b[0m \u001b[0;34m**\u001b[0m\u001b[0mkwargs\u001b[0m\u001b[0;34m)\u001b[0m\u001b[0;34m\u001b[0m\u001b[0;34m\u001b[0m\u001b[0m\n\u001b[0m\u001b[1;32m   1195\u001b[0m         \u001b[0;31m# Do not call functions when jit is used\u001b[0m\u001b[0;34m\u001b[0m\u001b[0;34m\u001b[0m\u001b[0;34m\u001b[0m\u001b[0m\n\u001b[1;32m   1196\u001b[0m         \u001b[0mfull_backward_hooks\u001b[0m\u001b[0;34m,\u001b[0m \u001b[0mnon_full_backward_hooks\u001b[0m \u001b[0;34m=\u001b[0m \u001b[0;34m[\u001b[0m\u001b[0;34m]\u001b[0m\u001b[0;34m,\u001b[0m \u001b[0;34m[\u001b[0m\u001b[0;34m]\u001b[0m\u001b[0;34m\u001b[0m\u001b[0;34m\u001b[0m\u001b[0m\n",
            "\u001b[0;32m/usr/local/lib/python3.8/dist-packages/torch/nn/modules/container.py\u001b[0m in \u001b[0;36mforward\u001b[0;34m(self, input)\u001b[0m\n\u001b[1;32m    202\u001b[0m     \u001b[0;32mdef\u001b[0m \u001b[0mforward\u001b[0m\u001b[0;34m(\u001b[0m\u001b[0mself\u001b[0m\u001b[0;34m,\u001b[0m \u001b[0minput\u001b[0m\u001b[0;34m)\u001b[0m\u001b[0;34m:\u001b[0m\u001b[0;34m\u001b[0m\u001b[0;34m\u001b[0m\u001b[0m\n\u001b[1;32m    203\u001b[0m         \u001b[0;32mfor\u001b[0m \u001b[0mmodule\u001b[0m \u001b[0;32min\u001b[0m \u001b[0mself\u001b[0m\u001b[0;34m:\u001b[0m\u001b[0;34m\u001b[0m\u001b[0;34m\u001b[0m\u001b[0m\n\u001b[0;32m--> 204\u001b[0;31m             \u001b[0minput\u001b[0m \u001b[0;34m=\u001b[0m \u001b[0mmodule\u001b[0m\u001b[0;34m(\u001b[0m\u001b[0minput\u001b[0m\u001b[0;34m)\u001b[0m\u001b[0;34m\u001b[0m\u001b[0;34m\u001b[0m\u001b[0m\n\u001b[0m\u001b[1;32m    205\u001b[0m         \u001b[0;32mreturn\u001b[0m \u001b[0minput\u001b[0m\u001b[0;34m\u001b[0m\u001b[0;34m\u001b[0m\u001b[0m\n\u001b[1;32m    206\u001b[0m \u001b[0;34m\u001b[0m\u001b[0m\n",
            "\u001b[0;32m/usr/local/lib/python3.8/dist-packages/torch/nn/modules/module.py\u001b[0m in \u001b[0;36m_call_impl\u001b[0;34m(self, *input, **kwargs)\u001b[0m\n\u001b[1;32m   1192\u001b[0m         if not (self._backward_hooks or self._forward_hooks or self._forward_pre_hooks or _global_backward_hooks\n\u001b[1;32m   1193\u001b[0m                 or _global_forward_hooks or _global_forward_pre_hooks):\n\u001b[0;32m-> 1194\u001b[0;31m             \u001b[0;32mreturn\u001b[0m \u001b[0mforward_call\u001b[0m\u001b[0;34m(\u001b[0m\u001b[0;34m*\u001b[0m\u001b[0minput\u001b[0m\u001b[0;34m,\u001b[0m \u001b[0;34m**\u001b[0m\u001b[0mkwargs\u001b[0m\u001b[0;34m)\u001b[0m\u001b[0;34m\u001b[0m\u001b[0;34m\u001b[0m\u001b[0m\n\u001b[0m\u001b[1;32m   1195\u001b[0m         \u001b[0;31m# Do not call functions when jit is used\u001b[0m\u001b[0;34m\u001b[0m\u001b[0;34m\u001b[0m\u001b[0;34m\u001b[0m\u001b[0m\n\u001b[1;32m   1196\u001b[0m         \u001b[0mfull_backward_hooks\u001b[0m\u001b[0;34m,\u001b[0m \u001b[0mnon_full_backward_hooks\u001b[0m \u001b[0;34m=\u001b[0m \u001b[0;34m[\u001b[0m\u001b[0;34m]\u001b[0m\u001b[0;34m,\u001b[0m \u001b[0;34m[\u001b[0m\u001b[0;34m]\u001b[0m\u001b[0;34m\u001b[0m\u001b[0;34m\u001b[0m\u001b[0m\n",
            "\u001b[0;32m/usr/local/lib/python3.8/dist-packages/torchvision/models/resnet.py\u001b[0m in \u001b[0;36mforward\u001b[0;34m(self, x)\u001b[0m\n\u001b[1;32m    153\u001b[0m \u001b[0;34m\u001b[0m\u001b[0m\n\u001b[1;32m    154\u001b[0m         \u001b[0mout\u001b[0m \u001b[0;34m=\u001b[0m \u001b[0mself\u001b[0m\u001b[0;34m.\u001b[0m\u001b[0mconv3\u001b[0m\u001b[0;34m(\u001b[0m\u001b[0mout\u001b[0m\u001b[0;34m)\u001b[0m\u001b[0;34m\u001b[0m\u001b[0;34m\u001b[0m\u001b[0m\n\u001b[0;32m--> 155\u001b[0;31m         \u001b[0mout\u001b[0m \u001b[0;34m=\u001b[0m \u001b[0mself\u001b[0m\u001b[0;34m.\u001b[0m\u001b[0mbn3\u001b[0m\u001b[0;34m(\u001b[0m\u001b[0mout\u001b[0m\u001b[0;34m)\u001b[0m\u001b[0;34m\u001b[0m\u001b[0;34m\u001b[0m\u001b[0m\n\u001b[0m\u001b[1;32m    156\u001b[0m \u001b[0;34m\u001b[0m\u001b[0m\n\u001b[1;32m    157\u001b[0m         \u001b[0;32mif\u001b[0m \u001b[0mself\u001b[0m\u001b[0;34m.\u001b[0m\u001b[0mdownsample\u001b[0m \u001b[0;32mis\u001b[0m \u001b[0;32mnot\u001b[0m \u001b[0;32mNone\u001b[0m\u001b[0;34m:\u001b[0m\u001b[0;34m\u001b[0m\u001b[0;34m\u001b[0m\u001b[0m\n",
            "\u001b[0;32m/usr/local/lib/python3.8/dist-packages/torch/nn/modules/module.py\u001b[0m in \u001b[0;36m_call_impl\u001b[0;34m(self, *input, **kwargs)\u001b[0m\n\u001b[1;32m   1192\u001b[0m         if not (self._backward_hooks or self._forward_hooks or self._forward_pre_hooks or _global_backward_hooks\n\u001b[1;32m   1193\u001b[0m                 or _global_forward_hooks or _global_forward_pre_hooks):\n\u001b[0;32m-> 1194\u001b[0;31m             \u001b[0;32mreturn\u001b[0m \u001b[0mforward_call\u001b[0m\u001b[0;34m(\u001b[0m\u001b[0;34m*\u001b[0m\u001b[0minput\u001b[0m\u001b[0;34m,\u001b[0m \u001b[0;34m**\u001b[0m\u001b[0mkwargs\u001b[0m\u001b[0;34m)\u001b[0m\u001b[0;34m\u001b[0m\u001b[0;34m\u001b[0m\u001b[0m\n\u001b[0m\u001b[1;32m   1195\u001b[0m         \u001b[0;31m# Do not call functions when jit is used\u001b[0m\u001b[0;34m\u001b[0m\u001b[0;34m\u001b[0m\u001b[0;34m\u001b[0m\u001b[0m\n\u001b[1;32m   1196\u001b[0m         \u001b[0mfull_backward_hooks\u001b[0m\u001b[0;34m,\u001b[0m \u001b[0mnon_full_backward_hooks\u001b[0m \u001b[0;34m=\u001b[0m \u001b[0;34m[\u001b[0m\u001b[0;34m]\u001b[0m\u001b[0;34m,\u001b[0m \u001b[0;34m[\u001b[0m\u001b[0;34m]\u001b[0m\u001b[0;34m\u001b[0m\u001b[0;34m\u001b[0m\u001b[0m\n",
            "\u001b[0;32m/usr/local/lib/python3.8/dist-packages/torch/nn/modules/batchnorm.py\u001b[0m in \u001b[0;36mforward\u001b[0;34m(self, input)\u001b[0m\n\u001b[1;32m    169\u001b[0m         \u001b[0mused\u001b[0m \u001b[0;32mfor\u001b[0m \u001b[0mnormalization\u001b[0m \u001b[0;34m(\u001b[0m\u001b[0mi\u001b[0m\u001b[0;34m.\u001b[0m\u001b[0me\u001b[0m\u001b[0;34m.\u001b[0m \u001b[0;32min\u001b[0m \u001b[0meval\u001b[0m \u001b[0mmode\u001b[0m \u001b[0mwhen\u001b[0m \u001b[0mbuffers\u001b[0m \u001b[0mare\u001b[0m \u001b[0;32mnot\u001b[0m \u001b[0;32mNone\u001b[0m\u001b[0;34m)\u001b[0m\u001b[0;34m.\u001b[0m\u001b[0;34m\u001b[0m\u001b[0;34m\u001b[0m\u001b[0m\n\u001b[1;32m    170\u001b[0m         \"\"\"\n\u001b[0;32m--> 171\u001b[0;31m         return F.batch_norm(\n\u001b[0m\u001b[1;32m    172\u001b[0m             \u001b[0minput\u001b[0m\u001b[0;34m,\u001b[0m\u001b[0;34m\u001b[0m\u001b[0;34m\u001b[0m\u001b[0m\n\u001b[1;32m    173\u001b[0m             \u001b[0;31m# If buffers are not to be tracked, ensure that they won't be updated\u001b[0m\u001b[0;34m\u001b[0m\u001b[0;34m\u001b[0m\u001b[0;34m\u001b[0m\u001b[0m\n",
            "\u001b[0;32m/usr/local/lib/python3.8/dist-packages/torch/nn/functional.py\u001b[0m in \u001b[0;36mbatch_norm\u001b[0;34m(input, running_mean, running_var, weight, bias, training, momentum, eps)\u001b[0m\n\u001b[1;32m   2448\u001b[0m         \u001b[0m_verify_batch_size\u001b[0m\u001b[0;34m(\u001b[0m\u001b[0minput\u001b[0m\u001b[0;34m.\u001b[0m\u001b[0msize\u001b[0m\u001b[0;34m(\u001b[0m\u001b[0;34m)\u001b[0m\u001b[0;34m)\u001b[0m\u001b[0;34m\u001b[0m\u001b[0;34m\u001b[0m\u001b[0m\n\u001b[1;32m   2449\u001b[0m \u001b[0;34m\u001b[0m\u001b[0m\n\u001b[0;32m-> 2450\u001b[0;31m     return torch.batch_norm(\n\u001b[0m\u001b[1;32m   2451\u001b[0m         \u001b[0minput\u001b[0m\u001b[0;34m,\u001b[0m \u001b[0mweight\u001b[0m\u001b[0;34m,\u001b[0m \u001b[0mbias\u001b[0m\u001b[0;34m,\u001b[0m \u001b[0mrunning_mean\u001b[0m\u001b[0;34m,\u001b[0m \u001b[0mrunning_var\u001b[0m\u001b[0;34m,\u001b[0m \u001b[0mtraining\u001b[0m\u001b[0;34m,\u001b[0m \u001b[0mmomentum\u001b[0m\u001b[0;34m,\u001b[0m \u001b[0meps\u001b[0m\u001b[0;34m,\u001b[0m \u001b[0mtorch\u001b[0m\u001b[0;34m.\u001b[0m\u001b[0mbackends\u001b[0m\u001b[0;34m.\u001b[0m\u001b[0mcudnn\u001b[0m\u001b[0;34m.\u001b[0m\u001b[0menabled\u001b[0m\u001b[0;34m\u001b[0m\u001b[0;34m\u001b[0m\u001b[0m\n\u001b[1;32m   2452\u001b[0m     )\n",
            "\u001b[0;31mKeyboardInterrupt\u001b[0m: "
          ]
        },
        {
          "output_type": "display_data",
          "data": {
            "text/plain": [
              "<Figure size 432x288 with 1 Axes>"
            ],
            "image/png": "[encoded data removed]"
          },
          "metadata": {
            "needs_background": "light"
          }
        }
      ],
      "source": [
        "# Entrenar la red\n",
        "loss_list = []\n",
        "acc_list = []\n",
        "best_acc = 0\n",
        "\n",
        "for epoch in range(num_epochs):\n",
        "    correct = 0\n",
        "    total = 0\n",
        "    for i, (images, labels) in enumerate(train_loader):\n",
        "        # Pasar datos a través de la red\n",
        "        outputs = model(images)\n",
        "        _, predicted = torch.max(outputs.data, 1)\n",
        "        total += labels.size(0)\n",
        "        correct += (predicted == labels).sum().item()\n",
        "        acc = correct / total\n",
        "        loss = criterion(outputs, labels)\n",
        "        loss_list.append(loss.item())\n",
        "        acc_list.append(correct / total)\n",
        "\n",
        "        # Realizar un paso de optimización\n",
        "        optimizer.zero_grad()\n",
        "        loss.backward()\n",
        "        optimizer.step()\n",
        "\n",
        "        if (i+1) == len(train_loader):\n",
        "            print('Epoch [{}/{}], Step [{}/{}], Loss: {:.4f}, Accuracy: {:.4f}'.format(epoch+1, num_epochs, i+1, len(train_loader), loss.item(), acc))\n",
        "    y_true = []\n",
        "    y_pred = []\n",
        "    # Evaluar la red en el conjunto de pruebas\n",
        "    with torch.no_grad():\n",
        "        for images, labels in test_loader:\n",
        "            outputs = model(images)\n",
        "            _, predicted = torch.max(outputs.data, 1)\n",
        "            y_true.extend(labels.tolist())\n",
        "            y_pred.extend(predicted.tolist())\n",
        "\n",
        "    acc = correct / total\n",
        "    print('Epoch [{}], Accuracy_testing: {:.4f}'.format(epoch+1,  acc))\n",
        "\n",
        "    if acc > best_acc:\n",
        "        best_acc = acc\n",
        "        print(\"Mejor entrenamiento: \",best_acc)\n",
        "        torch.save(model, 'best_model.pt') \n",
        "        cm = confusion_matrix(y_true, y_pred)\n",
        "        class_name=['Etapa1', 'Etapa2', 'Etapa3', 'Etapa4']\n",
        "        report = classification_report(y_true, y_pred, target_names=class_name)\n",
        "        print(cm)\n",
        "        print('\\nReporte de clasificación:')\n",
        "        print(report)\n",
        "        plt.imshow(cm, cmap=plt.cm.Blues)\n",
        "        plt.savefig('/content/drive/MyDrive/Train-ResNet-50/GraficosM/matriz_confusion-2023-03-4-{}.png' .format(epoch+1))"
      ]
    },
    {
      "cell_type": "code",
      "execution_count": null,
      "metadata": {
        "id": "TCBht1pkRlLi",
        "colab": {
          "base_uri": "https://localhost:8080/",
          "height": 581
        },
        "outputId": "728ad130-a115-46e8-8bcc-4aed1c7ffcec"
      },
      "outputs": [
        {
          "output_type": "stream",
          "name": "stdout",
          "text": [
            "Matriz de confusión:\n",
            "[[50  2  1  2]\n",
            " [ 1 53  0  1]\n",
            " [ 9 11 34  1]\n",
            " [ 5  0  3 47]]\n",
            "\n",
            "Reporte de clasificación:\n",
            "              precision    recall  f1-score   support\n",
            "\n",
            "      Etapa1       0.77      0.91      0.83        55\n",
            "      Etapa2       0.80      0.96      0.88        55\n",
            "      Etapa3       0.89      0.62      0.73        55\n",
            "      Etapa4       0.92      0.85      0.89        55\n",
            "\n",
            "    accuracy                           0.84       220\n",
            "   macro avg       0.85      0.84      0.83       220\n",
            "weighted avg       0.85      0.84      0.83       220\n",
            "\n"
          ]
        },
        {
          "output_type": "display_data",
          "data": {
            "text/plain": [
              "<Figure size 432x288 with 1 Axes>"
            ],
            "image/png": "[encoded data removed]"
          },
          "metadata": {
            "needs_background": "light"
          }
        }
      ],
      "source": [
        "model = torch.load('best_model.pt')\n",
        "\n",
        "model.eval()\n",
        "\n",
        "y_true = []\n",
        "y_pred = []\n",
        "\n",
        "with torch.no_grad():\n",
        "  for images, labels in test_loader:\n",
        "    outputs = model(images)\n",
        "    _, predicted = torch.max(outputs.data, 1)\n",
        "    y_true.extend(labels.tolist())\n",
        "    y_pred.extend(predicted.tolist())\n",
        "\n",
        "cm = confusion_matrix(y_true, y_pred)\n",
        "class_name=['Etapa1', 'Etapa2', 'Etapa3', 'Etapa4']\n",
        "report = classification_report(y_true, y_pred, target_names=class_name)\n",
        "\n",
        "print('Matriz de confusión:')\n",
        "print(cm)\n",
        "plt.imshow(cm, cmap=plt.cm.Blues)\n",
        "print('\\nReporte de clasificación:')\n",
        "print(report)\n",
        "plt.savefig('/content/drive/MyDrive/Train-ResNet-50/GraficosM/matriz_confusion_best_model.png')\n"
      ]
    },
    {
      "cell_type": "code",
      "execution_count": null,
      "metadata": {
        "id": "63cmsvEyRow-",
        "colab": {
          "base_uri": "https://localhost:8080/"
        },
        "outputId": "b769e839-39f4-4ea9-9cb3-837e74969d51"
      },
      "outputs": [
        {
          "output_type": "stream",
          "name": "stdout",
          "text": [
            "Accuracy:  0.8363636363636363\n"
          ]
        }
      ],
      "source": [
        "accuracy = np.trace(cm) / np.sum(cm)\n",
        "print('Accuracy: ', accuracy)"
      ]
    },
    {
      "cell_type": "code",
      "execution_count": null,
      "metadata": {
        "id": "T3HF9GyLRsCg",
        "colab": {
          "base_uri": "https://localhost:8080/"
        },
        "outputId": "2d24420f-5062-49af-a6e7-56e68e2c9740"
      },
      "outputs": [
        {
          "output_type": "stream",
          "name": "stdout",
          "text": [
            "Precisión: 83.64%\n"
          ]
        }
      ],
      "source": [
        "# Calcular la precisión\n",
        "accuracy = accuracy_score(y_true, y_pred)\n",
        "print(\"Precisión: {:.2f}%\".format(accuracy * 100))"
      ]
    },
    {
      "cell_type": "code",
      "execution_count": null,
      "metadata": {
        "id": "_6CFv822RwI9",
        "colab": {
          "base_uri": "https://localhost:8080/"
        },
        "outputId": "e358a3fe-328c-49bc-a823-67b154304617"
      },
      "outputs": [
        {
          "output_type": "stream",
          "name": "stdout",
          "text": [
            "No se puede clasificar la imagen ETAPA 1.jpg con suficiente confianza.\n",
            "No se puede clasificar la imagen Etapa 2 (5).jpg con suficiente confianza.\n",
            "No se puede clasificar la imagen Etapa 3.jpg con suficiente confianza.\n",
            "No se puede clasificar la imagen Etapa 3 (3).jpg con suficiente confianza.\n",
            "La imagen IMG-ETAPA-02-3.jpg es de la clase 1 con probabilidad 0.96\n",
            "La imagen descarga.jpg es de la clase 1 con probabilidad 0.96\n",
            "No se puede clasificar la imagen descarga 10.jpg con suficiente confianza.\n",
            "No se puede clasificar la imagen perro.jpg con suficiente confianza.\n",
            "No se puede clasificar la imagen perro2.jpg con suficiente confianza.\n",
            "No se puede clasificar la imagen lechuga.jpg con suficiente confianza.\n",
            "No se puede clasificar la imagen lechuga_2.jpg con suficiente confianza.\n",
            "No se puede clasificar la imagen flores.jpg con suficiente confianza.\n",
            "La imagen floresb.jpg es de la clase 2 con probabilidad 1.00\n",
            "La imagen OtroperroCesped.jpg es de la clase 2 con probabilidad 0.92\n",
            "No se puede clasificar la imagen Perro_mueble.jpg con suficiente confianza.\n",
            "La imagen FloresRosadas.jpg es de la clase 2 con probabilidad 0.99\n",
            "La imagen Girasol.jpg es de la clase 2 con probabilidad 1.00\n",
            "No se puede clasificar la imagen gato.jpg con suficiente confianza.\n",
            "La imagen gato_Cesped.jpg es de la clase 2 con probabilidad 0.96\n",
            "La imagen arboles.jpg es de la clase 3 con probabilidad 0.94\n",
            "No se puede clasificar la imagen sembrios_Arroz.jpg con suficiente confianza.\n",
            "No se puede clasificar la imagen sembrios_Arroz2.jpg con suficiente confianza.\n",
            "No se puede clasificar la imagen Flor_loto_pantano.jpg con suficiente confianza.\n",
            "La imagen orquidea.jpg es de la clase 2 con probabilidad 0.99\n"
          ]
        }
      ],
      "source": [
        "directory = \"/content/drive/MyDrive/Train-ResNet-50/Inferencias\"\n",
        "\n",
        "model = torch.load(\"best_model.pt\")\n",
        "\n",
        "data_transform = transforms.Compose([\n",
        "    transforms.Resize(256),\n",
        "    transforms.CenterCrop(224),\n",
        "    transforms.ToTensor(),\n",
        "    transforms.Normalize([0.485, 0.456, 0.406], [0.229, 0.224, 0.225])\n",
        "])\n",
        "\n",
        "for filename in os.listdir(directory):\n",
        "  if filename.endswith(\".jpg\"):\n",
        "  \n",
        "    img = Image.open(os.path.join(directory, filename))\n",
        "    image = data_transform(img).unsqueeze(0)\n",
        "    model.eval()\n",
        "    with torch.no_grad():\n",
        "      output = model(image)\n",
        "      probs = torch.softmax(output, dim=1)\n",
        "      pred_class = torch.argmax(probs, dim=1).item()\n",
        "      max_prob = torch.max(probs).item()\n",
        "\n",
        "      if max_prob >= 0.92:\n",
        "        print(f\"La imagen {filename} es de la clase {pred_class+1} con probabilidad {max_prob:.2f}\")\n",
        "      else:\n",
        "        print(f\"No se puede clasificar la imagen {filename} con suficiente confianza.\")\n"
      ]
    },
    {
      "cell_type": "code",
      "execution_count": null,
      "metadata": {
        "id": "5hgDp1s-Rw_E",
        "colab": {
          "base_uri": "https://localhost:8080/",
          "height": 314
        },
        "outputId": "14831836-d9bd-4923-d1ac-d559a276b27d"
      },
      "outputs": [
        {
          "output_type": "display_data",
          "data": {
            "text/plain": [
              "<Figure size 432x288 with 2 Axes>"
            ],
            "image/png": "[encoded data removed]"
          },
          "metadata": {
            "needs_background": "light"
          }
        },
        {
          "output_type": "display_data",
          "data": {
            "text/plain": [
              "<Figure size 432x288 with 0 Axes>"
            ]
          },
          "metadata": {}
        }
      ],
      "source": [
        "# Crear gráfico\n",
        "fig, ax1 = plt.subplots()\n",
        "ax2 = ax1.twinx()\n",
        "\n",
        "color = 'tab:red'\n",
        "ax1.set_xlabel('iterations')\n",
        "ax1.set_ylabel('Loss', color=color)\n",
        "ax1.plot(loss_list, color=color)\n",
        "ax1.tick_params(axis='y', labelcolor=color)\n",
        "\n",
        "color = 'tab:blue'\n",
        "ax2.set_ylabel('Accuracy', color=color)\n",
        "ax2.plot(acc_list, color=color)\n",
        "ax2.tick_params(axis='y', labelcolor=color)\n",
        "\n",
        "fig.tight_layout()\n",
        "plt.show()\n",
        "plt.savefig('/content/drive/MyDrive/fn-gafico_de_aprendizaje.png')"
      ]
    }
  ],
  "metadata": {
    "accelerator": "GPU",
    "colab": {
      "provenance": [],
      "include_colab_link": true
    },
    "gpuClass": "standard",
    "kernelspec": {
      "display_name": "Python 3",
      "name": "python3"
    },
    "language_info": {
      "name": "python"
    },
    "widgets": {
      "application/vnd.jupyter.widget-state+json": {
        "df4bcb9b27c547c78dd61e89b52b6085": {
          "model_module": "@jupyter-widgets/controls",
          "model_name": "HBoxModel",
          "model_module_version": "1.5.0",
          "state": {
            "_dom_classes": [],
            "_model_module": "@jupyter-widgets/controls",
            "_model_module_version": "1.5.0",
            "_model_name": "HBoxModel",
            "_view_count": null,
            "_view_module": "@jupyter-widgets/controls",
            "_view_module_version": "1.5.0",
            "_view_name": "HBoxView",
            "box_style": "",
            "children": [
              "IPY_MODEL_0a70de2c8dda4dbeb43140613e51d36d",
              "IPY_MODEL_263776f872624d53b5dc5bcee682ed8c",
              "IPY_MODEL_0cc2ff39837f4bf89c7419a8fceb4251"
            ],
            "layout": "IPY_MODEL_b36ba468f9c84c5fbc831220ca5eeb28"
          }
        },
        "0a70de2c8dda4dbeb43140613e51d36d": {
          "model_module": "@jupyter-widgets/controls",
          "model_name": "HTMLModel",
          "model_module_version": "1.5.0",
          "state": {
            "_dom_classes": [],
            "_model_module": "@jupyter-widgets/controls",
            "_model_module_version": "1.5.0",
            "_model_name": "HTMLModel",
            "_view_count": null,
            "_view_module": "@jupyter-widgets/controls",
            "_view_module_version": "1.5.0",
            "_view_name": "HTMLView",
            "description": "",
            "description_tooltip": null,
            "layout": "IPY_MODEL_44360049d0de441caada8d8f7b7d3b92",
            "placeholder": "​",
            "style": "IPY_MODEL_af4a04cb38fc408390d25f910b9ffa1e",
            "value": "100%"
          }
        },
        "263776f872624d53b5dc5bcee682ed8c": {
          "model_module": "@jupyter-widgets/controls",
          "model_name": "FloatProgressModel",
          "model_module_version": "1.5.0",
          "state": {
            "_dom_classes": [],
            "_model_module": "@jupyter-widgets/controls",
            "_model_module_version": "1.5.0",
            "_model_name": "FloatProgressModel",
            "_view_count": null,
            "_view_module": "@jupyter-widgets/controls",
            "_view_module_version": "1.5.0",
            "_view_name": "ProgressView",
            "bar_style": "success",
            "description": "",
            "description_tooltip": null,
            "layout": "IPY_MODEL_1ada99591abc466eb78519f6be62c042",
            "max": 102530333,
            "min": 0,
            "orientation": "horizontal",
            "style": "IPY_MODEL_e0642c209be049e8b82f0a45f6db060a",
            "value": 102530333
          }
        },
        "0cc2ff39837f4bf89c7419a8fceb4251": {
          "model_module": "@jupyter-widgets/controls",
          "model_name": "HTMLModel",
          "model_module_version": "1.5.0",
          "state": {
            "_dom_classes": [],
            "_model_module": "@jupyter-widgets/controls",
            "_model_module_version": "1.5.0",
            "_model_name": "HTMLModel",
            "_view_count": null,
            "_view_module": "@jupyter-widgets/controls",
            "_view_module_version": "1.5.0",
            "_view_name": "HTMLView",
            "description": "",
            "description_tooltip": null,
            "layout": "IPY_MODEL_81cc2cef29624f4a89a9221801021716",
            "placeholder": "​",
            "style": "IPY_MODEL_356bc3bd5561421ab2d550c1e4b32f86",
            "value": " 97.8M/97.8M [00:00&lt;00:00, 246MB/s]"
          }
        },
        "b36ba468f9c84c5fbc831220ca5eeb28": {
          "model_module": "@jupyter-widgets/base",
          "model_name": "LayoutModel",
          "model_module_version": "1.2.0",
          "state": {
            "_model_module": "@jupyter-widgets/base",
            "_model_module_version": "1.2.0",
            "_model_name": "LayoutModel",
            "_view_count": null,
            "_view_module": "@jupyter-widgets/base",
            "_view_module_version": "1.2.0",
            "_view_name": "LayoutView",
            "align_content": null,
            "align_items": null,
            "align_self": null,
            "border": null,
            "bottom": null,
            "display": null,
            "flex": null,
            "flex_flow": null,
            "grid_area": null,
            "grid_auto_columns": null,
            "grid_auto_flow": null,
            "grid_auto_rows": null,
            "grid_column": null,
            "grid_gap": null,
            "grid_row": null,
            "grid_template_areas": null,
            "grid_template_columns": null,
            "grid_template_rows": null,
            "height": null,
            "justify_content": null,
            "justify_items": null,
            "left": null,
            "margin": null,
            "max_height": null,
            "max_width": null,
            "min_height": null,
            "min_width": null,
            "object_fit": null,
            "object_position": null,
            "order": null,
            "overflow": null,
            "overflow_x": null,
            "overflow_y": null,
            "padding": null,
            "right": null,
            "top": null,
            "visibility": null,
            "width": null
          }
        },
        "44360049d0de441caada8d8f7b7d3b92": {
          "model_module": "@jupyter-widgets/base",
          "model_name": "LayoutModel",
          "model_module_version": "1.2.0",
          "state": {
            "_model_module": "@jupyter-widgets/base",
            "_model_module_version": "1.2.0",
            "_model_name": "LayoutModel",
            "_view_count": null,
            "_view_module": "@jupyter-widgets/base",
            "_view_module_version": "1.2.0",
            "_view_name": "LayoutView",
            "align_content": null,
            "align_items": null,
            "align_self": null,
            "border": null,
            "bottom": null,
            "display": null,
            "flex": null,
            "flex_flow": null,
            "grid_area": null,
            "grid_auto_columns": null,
            "grid_auto_flow": null,
            "grid_auto_rows": null,
            "grid_column": null,
            "grid_gap": null,
            "grid_row": null,
            "grid_template_areas": null,
            "grid_template_columns": null,
            "grid_template_rows": null,
            "height": null,
            "justify_content": null,
            "justify_items": null,
            "left": null,
            "margin": null,
            "max_height": null,
            "max_width": null,
            "min_height": null,
            "min_width": null,
            "object_fit": null,
            "object_position": null,
            "order": null,
            "overflow": null,
            "overflow_x": null,
            "overflow_y": null,
            "padding": null,
            "right": null,
            "top": null,
            "visibility": null,
            "width": null
          }
        },
        "af4a04cb38fc408390d25f910b9ffa1e": {
          "model_module": "@jupyter-widgets/controls",
          "model_name": "DescriptionStyleModel",
          "model_module_version": "1.5.0",
          "state": {
            "_model_module": "@jupyter-widgets/controls",
            "_model_module_version": "1.5.0",
            "_model_name": "DescriptionStyleModel",
            "_view_count": null,
            "_view_module": "@jupyter-widgets/base",
            "_view_module_version": "1.2.0",
            "_view_name": "StyleView",
            "description_width": ""
          }
        },
        "1ada99591abc466eb78519f6be62c042": {
          "model_module": "@jupyter-widgets/base",
          "model_name": "LayoutModel",
          "model_module_version": "1.2.0",
          "state": {
            "_model_module": "@jupyter-widgets/base",
            "_model_module_version": "1.2.0",
            "_model_name": "LayoutModel",
            "_view_count": null,
            "_view_module": "@jupyter-widgets/base",
            "_view_module_version": "1.2.0",
            "_view_name": "LayoutView",
            "align_content": null,
            "align_items": null,
            "align_self": null,
            "border": null,
            "bottom": null,
            "display": null,
            "flex": null,
            "flex_flow": null,
            "grid_area": null,
            "grid_auto_columns": null,
            "grid_auto_flow": null,
            "grid_auto_rows": null,
            "grid_column": null,
            "grid_gap": null,
            "grid_row": null,
            "grid_template_areas": null,
            "grid_template_columns": null,
            "grid_template_rows": null,
            "height": null,
            "justify_content": null,
            "justify_items": null,
            "left": null,
            "margin": null,
            "max_height": null,
            "max_width": null,
            "min_height": null,
            "min_width": null,
            "object_fit": null,
            "object_position": null,
            "order": null,
            "overflow": null,
            "overflow_x": null,
            "overflow_y": null,
            "padding": null,
            "right": null,
            "top": null,
            "visibility": null,
            "width": null
          }
        },
        "e0642c209be049e8b82f0a45f6db060a": {
          "model_module": "@jupyter-widgets/controls",
          "model_name": "ProgressStyleModel",
          "model_module_version": "1.5.0",
          "state": {
            "_model_module": "@jupyter-widgets/controls",
            "_model_module_version": "1.5.0",
            "_model_name": "ProgressStyleModel",
            "_view_count": null,
            "_view_module": "@jupyter-widgets/base",
            "_view_module_version": "1.2.0",
            "_view_name": "StyleView",
            "bar_color": null,
            "description_width": ""
          }
        },
        "81cc2cef29624f4a89a9221801021716": {
          "model_module": "@jupyter-widgets/base",
          "model_name": "LayoutModel",
          "model_module_version": "1.2.0",
          "state": {
            "_model_module": "@jupyter-widgets/base",
            "_model_module_version": "1.2.0",
            "_model_name": "LayoutModel",
            "_view_count": null,
            "_view_module": "@jupyter-widgets/base",
            "_view_module_version": "1.2.0",
            "_view_name": "LayoutView",
            "align_content": null,
            "align_items": null,
            "align_self": null,
            "border": null,
            "bottom": null,
            "display": null,
            "flex": null,
            "flex_flow": null,
            "grid_area": null,
            "grid_auto_columns": null,
            "grid_auto_flow": null,
            "grid_auto_rows": null,
            "grid_column": null,
            "grid_gap": null,
            "grid_row": null,
            "grid_template_areas": null,
            "grid_template_columns": null,
            "grid_template_rows": null,
            "height": null,
            "justify_content": null,
            "justify_items": null,
            "left": null,
            "margin": null,
            "max_height": null,
            "max_width": null,
            "min_height": null,
            "min_width": null,
            "object_fit": null,
            "object_position": null,
            "order": null,
            "overflow": null,
            "overflow_x": null,
            "overflow_y": null,
            "padding": null,
            "right": null,
            "top": null,
            "visibility": null,
            "width": null
          }
        },
        "356bc3bd5561421ab2d550c1e4b32f86": {
          "model_module": "@jupyter-widgets/controls",
          "model_name": "DescriptionStyleModel",
          "model_module_version": "1.5.0",
          "state": {
            "_model_module": "@jupyter-widgets/controls",
            "_model_module_version": "1.5.0",
            "_model_name": "DescriptionStyleModel",
            "_view_count": null,
            "_view_module": "@jupyter-widgets/base",
            "_view_module_version": "1.2.0",
            "_view_name": "StyleView",
            "description_width": ""
          }
        }
      }
    }
  },
  "nbformat": 4,
  "nbformat_minor": 0
}